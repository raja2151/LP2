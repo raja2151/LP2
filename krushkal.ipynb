{
 "cells": [
  {
   "cell_type": "code",
   "execution_count": 1,
   "id": "7e253df2-7358-4cbf-a994-7c7424e4eb68",
   "metadata": {},
   "outputs": [
    {
     "name": "stdin",
     "output_type": "stream",
     "text": [
      "Enter the number of vertices:  9\n",
      "Enter the number of edges:  14\n"
     ]
    },
    {
     "name": "stdout",
     "output_type": "stream",
     "text": [
      "Enter the edges in the format 'u v w', where u and v are vertices\n"
     ]
    },
    {
     "name": "stdin",
     "output_type": "stream",
     "text": [
      " 0 1 4\n",
      " 0 7 8\n",
      " 1 7 11\n",
      " 1 2 8\n",
      " 7 6 1\n",
      " 7 8 7\n",
      " 2 8 2\n",
      " 8 6 6\n",
      " 2 3 7\n",
      " 2 5 4\n",
      " 6 5 2\n",
      " 3 5 14\n",
      " 3 4 9\n",
      " 5 4 10\n"
     ]
    },
    {
     "name": "stdout",
     "output_type": "stream",
     "text": [
      "\n",
      "Minimum Spanning Tree:\n",
      "Edge: 7 - 6, Weight: 1\n",
      "Edge: 2 - 8, Weight: 2\n",
      "Edge: 6 - 5, Weight: 2\n",
      "Edge: 0 - 1, Weight: 4\n",
      "Edge: 2 - 5, Weight: 4\n",
      "Edge: 2 - 3, Weight: 7\n",
      "Edge: 0 - 7, Weight: 8\n",
      "Edge: 3 - 4, Weight: 9\n"
     ]
    }
   ],
   "source": [
    "class Graph:\n",
    "    def __init__(self, vertices):\n",
    "        self.V = vertices\n",
    "        self.graph = []\n",
    " \n",
    "    def add_edge(self, u, v, w):\n",
    "        self.graph.append([u, v, w])\n",
    " \n",
    "    def kruskal(self):\n",
    "        self.graph = sorted(self.graph, key=lambda item: item[2])\n",
    "        parent = [i for i in range(self.V)]\n",
    "        result = []\n",
    "        i, e = 0, 0\n",
    "        while e < self.V - 1:\n",
    "            u, v, w = self.graph[i]\n",
    "            i = i + 1\n",
    "            x = self.find(parent, u)\n",
    "            y = self.find(parent, v)\n",
    "            if x != y:\n",
    "                e = e + 1\n",
    "                result.append([u, v, w])\n",
    "                self.union(parent, x, y)\n",
    "        return result\n",
    " \n",
    "    def find(self, parent, i):\n",
    "        if parent[i] == i:\n",
    "            return i\n",
    "        return self.find(parent, parent[i])\n",
    " \n",
    "    def union(self, parent, x, y):\n",
    "        x_set = self.find(parent, x)\n",
    "        y_set = self.find(parent, y)\n",
    "        parent[x_set] = y_set\n",
    " \n",
    "def main():\n",
    "    vertices = int(input(\"Enter the number of vertices: \"))\n",
    "    g = Graph(vertices)\n",
    " \n",
    "    edges = int(input(\"Enter the number of edges: \"))\n",
    " \n",
    "    print(\"Enter the edges in the format 'u v w', where u and v are vertices\")\n",
    "    for _ in range(edges):\n",
    "        u, v, w = map(int, input().split())\n",
    "        g.add_edge(u, v, w)\n",
    " \n",
    "    minimum_spanning_tree = g.kruskal()\n",
    "    \n",
    "    print(\"\\nMinimum Spanning Tree:\")\n",
    "    for edge in minimum_spanning_tree:\n",
    "        print(f\"Edge: {edge[0]} - {edge[1]}, Weight: {edge[2]}\")\n",
    " \n",
    "if __name__ == \"__main__\":\n",
    "    main()\n"
   ]
  },
  {
   "cell_type": "code",
   "execution_count": null,
   "id": "18567b34-2a6d-49af-bbc0-1efdc89a42f1",
   "metadata": {},
   "outputs": [],
   "source": []
  }
 ],
 "metadata": {
  "kernelspec": {
   "display_name": "Python 3 (ipykernel)",
   "language": "python",
   "name": "python3"
  },
  "language_info": {
   "codemirror_mode": {
    "name": "ipython",
    "version": 3
   },
   "file_extension": ".py",
   "mimetype": "text/x-python",
   "name": "python",
   "nbconvert_exporter": "python",
   "pygments_lexer": "ipython3",
   "version": "3.12.3"
  }
 },
 "nbformat": 4,
 "nbformat_minor": 5
}
