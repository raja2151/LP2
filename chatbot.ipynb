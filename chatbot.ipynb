{
 "cells": [
  {
   "cell_type": "code",
   "execution_count": 1,
   "id": "a5235522-1d23-4ead-8adf-5b40ee28c863",
   "metadata": {},
   "outputs": [],
   "source": [
    "import random"
   ]
  },
  {
   "cell_type": "code",
   "execution_count": null,
   "id": "cfa2522b-044d-4371-a6e7-09a1de574bf5",
   "metadata": {},
   "outputs": [
    {
     "name": "stdout",
     "output_type": "stream",
     "text": [
      "Hello, welcome to Enterprise Bot! How can I assist you today?\n"
     ]
    },
    {
     "name": "stdin",
     "output_type": "stream",
     "text": [
      "You:  hi\n"
     ]
    },
    {
     "name": "stdout",
     "output_type": "stream",
     "text": [
      "Hello, welcome to Enterprise Bot! How can I assist you today?\n"
     ]
    },
    {
     "name": "stdin",
     "output_type": "stream",
     "text": [
      "You:  how are you\n"
     ]
    },
    {
     "name": "stdout",
     "output_type": "stream",
     "text": [
      "I'm sorry, I didn't understand. Can you please rephrase?\n"
     ]
    },
    {
     "name": "stdin",
     "output_type": "stream",
     "text": [
      "You:  services\n"
     ]
    },
    {
     "name": "stdout",
     "output_type": "stream",
     "text": [
      "We offer the following services:\n",
      "- IT Support\n",
      "- Software Development\n",
      "- Cloud Computing\n",
      "- Data Analytics\n",
      "Which service are you interested in?\n"
     ]
    }
   ],
   "source": [
    "responses = {\n",
    "    \"hi\": \"Hello, welcome to Enterprise Bot! How can I assist you today?\",\n",
    "    \"services\": \"We offer the following services:\\n- IT Support\\n- Software Development\\n- Cloud Computing\\n- Data Analytics\\nWhich service are you interested in?\",\n",
    "    \"it support\": \"Great, let me transfer you to our IT support team.\",\n",
    "    \"software development\": \"Great, let me transfer you to our software development team.\",\n",
    "    \"cloud computing\": \"Great, let me transfer you to our cloud computing team.\",\n",
    "    \"data analytics\": \"Great, let me transfer you to our data analytics team.\",\n",
    "    \"default\": \"I'm sorry, I didn't understand. Can you please rephrase?\"\n",
    "}\n",
    "\n",
    "def get_response(user_input):\n",
    "    user_input = user_input.lower()\n",
    "    \n",
    "    if \"it support\" in user_input:\n",
    "        return responses[\"it support\"]\n",
    "    elif \"software development\" in user_input:\n",
    "        return responses[\"software development\"]\n",
    "    elif \"cloud computing\" in user_input:\n",
    "        return responses[\"cloud computing\"]\n",
    "    elif \"data analytics\" in user_input:\n",
    "        return responses[\"data analytics\"]\n",
    "    elif \"services\" in user_input:\n",
    "        return responses[\"services\"]\n",
    "    elif \"hi\" in user_input:\n",
    "        return responses[\"hi\"]\n",
    "    elif \"bye\" in user_input:\n",
    "        return \"Thank you for contacting Enterprise Bot. Have a nice day!\"\n",
    "    else:\n",
    "        return responses[\"default\"]\n",
    "\n",
    "print(\"Hello, welcome to Enterprise Bot! How can I assist you today?\")\n",
    "while True:\n",
    "    user_input = input(\"You: \")\n",
    "    if \"bye\" in user_input:\n",
    "        print(get_response(user_input))\n",
    "        break\n",
    "    else:\n",
    "        print(get_response(user_input))"
   ]
  },
  {
   "cell_type": "code",
   "execution_count": null,
   "id": "c15db904-7c68-418e-871b-e1e9517f317a",
   "metadata": {},
   "outputs": [],
   "source": []
  }
 ],
 "metadata": {
  "kernelspec": {
   "display_name": "Python 3 (ipykernel)",
   "language": "python",
   "name": "python3"
  },
  "language_info": {
   "codemirror_mode": {
    "name": "ipython",
    "version": 3
   },
   "file_extension": ".py",
   "mimetype": "text/x-python",
   "name": "python",
   "nbconvert_exporter": "python",
   "pygments_lexer": "ipython3",
   "version": "3.12.3"
  }
 },
 "nbformat": 4,
 "nbformat_minor": 5
}
