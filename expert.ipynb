{
 "cells": [
  {
   "cell_type": "code",
   "execution_count": 1,
   "id": "df4d7e69-ee38-4ccd-bc4a-0c558812410e",
   "metadata": {},
   "outputs": [
    {
     "ename": "ModuleNotFoundError",
     "evalue": "No module named 'pandas'",
     "output_type": "error",
     "traceback": [
      "\u001b[1;31m---------------------------------------------------------------------------\u001b[0m",
      "\u001b[1;31mModuleNotFoundError\u001b[0m                       Traceback (most recent call last)",
      "Cell \u001b[1;32mIn[1], line 3\u001b[0m\n\u001b[0;32m      1\u001b[0m \u001b[38;5;66;03m# Stock Expert System in Python\u001b[39;00m\n\u001b[1;32m----> 3\u001b[0m \u001b[38;5;28;01mimport\u001b[39;00m \u001b[38;5;21;01mpandas\u001b[39;00m \u001b[38;5;28;01mas\u001b[39;00m \u001b[38;5;21;01mpd\u001b[39;00m\n\u001b[0;32m      4\u001b[0m \u001b[38;5;28;01mimport\u001b[39;00m \u001b[38;5;21;01mnumpy\u001b[39;00m \u001b[38;5;28;01mas\u001b[39;00m \u001b[38;5;21;01mnp\u001b[39;00m\n\u001b[0;32m      6\u001b[0m \u001b[38;5;28;01mclass\u001b[39;00m \u001b[38;5;21;01mStockExpertSystem\u001b[39;00m:\n",
      "\u001b[1;31mModuleNotFoundError\u001b[0m: No module named 'pandas'"
     ]
    }
   ],
   "source": [
    "# Stock Expert System in Python\n",
    "\n",
    "import pandas as pd\n",
    "import numpy as np\n",
    "\n",
    "class StockExpertSystem:\n",
    "    def __init__(self, stock_data):\n",
    "        self.stock_data = stock_data\n",
    "\n",
    "    def calculate_indicators(self):\n",
    "        # Calculate simple moving averages\n",
    "        self.stock_data['SMA_50'] = self.stock_data['Close'].rolling(window=50).mean()\n",
    "        self.stock_data['SMA_200'] = self.stock_data['Close'].rolling(window=200).mean()\n",
    "\n",
    "        # Calculate relative strength index (RSI)\n",
    "        delta = self.stock_data['Close'].diff(1)\n",
    "        up, down = delta.copy(), delta.copy()\n",
    "        up[up < 0] = 0\n",
    "        down[down > 0] = 0\n",
    "        roll_up = up.rolling(window=14).mean()\n",
    "        roll_down = down.rolling(window=14).mean().abs()\n",
    "        RS = roll_up / roll_down\n",
    "        self.stock_data['RSI'] = 100.0 - (100.0 / (1.0 + RS))\n",
    "\n",
    "    def generate_signals(self):\n",
    "        signals = []\n",
    "        for i in range(1, len(self.stock_data)):\n",
    "            if self.stock_data['SMA_50'][i] > self.stock_data['SMA_200'][i] and self.stock_data['RSI'][i] < 30:\n",
    "                signals.append('Buy')\n",
    "            elif self.stock_data['SMA_50'][i] < self.stock_data['SMA_200'][i] and self.stock_data['RSI'][i] > 70:\n",
    "                signals.append('Sell')\n",
    "            else:\n",
    "                signals.append('Neutral')\n",
    "        self.stock_data['Signal'] = signals\n",
    "\n",
    "    def evaluate_performance(self):\n",
    "        # Calculate profit/loss for each trade\n",
    "        self.stock_data['Profit/Loss'] = np.where(self.stock_data['Signal'] == 'Buy', self.stock_data['Close'].shift(-1) - self.stock_data['Close'], 0)\n",
    "        self.stock_data['Profit/Loss'] = np.where(self.stock_data['Signal'] == 'Sell', self.stock_data['Close'] - self.stock_data['Close'].shift(-1), self.stock_data['Profit/Loss'])\n",
    "\n",
    "        # Calculate total profit/loss\n",
    "        total_profit_loss = self.stock_data['Profit/Loss'].sum()\n",
    "        print(f'Total Profit/Loss: {total_profit_loss:.2f}')\n",
    "\n",
    "    def run(self):\n",
    "        self.calculate_indicators()\n",
    "        self.generate_signals()\n",
    "        self.evaluate_performance()\n",
    "\n",
    "if __name__ == \"__main__\":\n",
    "    # Load stock data\n",
    "    stock_data = pd.read_csv('stock_data.csv', index_col='Date', parse_dates=['Date'])\n",
    "\n",
    "    # Create stock expert system instance\n",
    "    ses = StockExpertSystem(stock_data)\n",
    "\n",
    "    # Run the expert system\n",
    "    ses.run()"
   ]
  },
  {
   "cell_type": "code",
   "execution_count": null,
   "id": "30bdea62-7b51-47f3-8035-50bad986914a",
   "metadata": {},
   "outputs": [],
   "source": []
  }
 ],
 "metadata": {
  "kernelspec": {
   "display_name": "Python 3 (ipykernel)",
   "language": "python",
   "name": "python3"
  },
  "language_info": {
   "codemirror_mode": {
    "name": "ipython",
    "version": 3
   },
   "file_extension": ".py",
   "mimetype": "text/x-python",
   "name": "python",
   "nbconvert_exporter": "python",
   "pygments_lexer": "ipython3",
   "version": "3.12.3"
  }
 },
 "nbformat": 4,
 "nbformat_minor": 5
}
