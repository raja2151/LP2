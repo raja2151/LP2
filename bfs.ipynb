{
 "cells": [
  {
   "cell_type": "code",
   "execution_count": 1,
   "id": "a01cac13-6281-4d7c-84a7-e2bb18372662",
   "metadata": {},
   "outputs": [],
   "source": [
    "from collections import deque\n"
   ]
  },
  {
   "cell_type": "code",
   "execution_count": 2,
   "id": "a223f750-b97e-4241-a045-d901a7585424",
   "metadata": {},
   "outputs": [
    {
     "name": "stdin",
     "output_type": "stream",
     "text": [
      "Enter the size of the graph:  5\n",
      "Enter the size of input:  6\n",
      "Enter edges 1 of graph:  0 1\n",
      "Enter edges 2 of graph:  0 2\n",
      "Enter edges 3 of graph:  0 3\n",
      "Enter edges 4 of graph:  1 2 \n",
      "Enter edges 5 of graph:  2 4\n",
      "Enter edges 6 of graph:  3 4\n",
      "Enter the starting vertex:  0\n"
     ]
    },
    {
     "name": "stdout",
     "output_type": "stream",
     "text": [
      "BFS of Graph\n",
      "0 1 2 3 4 "
     ]
    }
   ],
   "source": [
    "class Graph:\n",
    "    def __init__(self, v):\n",
    "        self.V = v\n",
    "        self.adj = [[] for _ in range(v)]\n",
    "\n",
    "    def addEdge(self, v, w):\n",
    "        self.adj[v].append(w)\n",
    "\n",
    "    def BFS(self, s):\n",
    "        visited = [False] * self.V\n",
    "        self.BFSUtil(s, visited)\n",
    "\n",
    "    def BFSUtil(self, s, visited):\n",
    "        queue = deque()\n",
    "        visited[s] = True\n",
    "        queue.append(s)\n",
    "\n",
    "        while queue:\n",
    "            s = queue.popleft()\n",
    "            print(s, end=\" \")\n",
    "\n",
    "            for n in self.adj[s]:\n",
    "                if not visited[n]:\n",
    "                    visited[n] = True\n",
    "                    queue.append(n)\n",
    "\n",
    "\n",
    "n = int(input(\"Enter the size of the graph: \"))\n",
    "g = Graph(n)\n",
    "\n",
    "size = int(input(\"Enter the size of input: \"))\n",
    "for i in range(size):\n",
    "    j, k = map(int, input(f\"Enter edges {i + 1} of graph: \").split())\n",
    "\n",
    "    if j < n and k < n:\n",
    "        g.addEdge(j, k)\n",
    "    else:\n",
    "        print(\"Invalid Input\")\n",
    "\n",
    "start = int(input(\"Enter the starting vertex: \"))\n",
    "print(\"BFS of Graph\")\n",
    "g.BFS(start)\n"
   ]
  },
  {
   "cell_type": "code",
   "execution_count": null,
   "id": "3334bf5e-695c-47c7-b402-343f4530a87b",
   "metadata": {},
   "outputs": [],
   "source": []
  }
 ],
 "metadata": {
  "kernelspec": {
   "display_name": "Python 3 (ipykernel)",
   "language": "python",
   "name": "python3"
  },
  "language_info": {
   "codemirror_mode": {
    "name": "ipython",
    "version": 3
   },
   "file_extension": ".py",
   "mimetype": "text/x-python",
   "name": "python",
   "nbconvert_exporter": "python",
   "pygments_lexer": "ipython3",
   "version": "3.12.3"
  }
 },
 "nbformat": 4,
 "nbformat_minor": 5
}
