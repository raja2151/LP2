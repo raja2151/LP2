{
 "cells": [
  {
   "cell_type": "code",
   "execution_count": 1,
   "id": "7169fc80-bc20-4b68-a818-b2fc6c1a06be",
   "metadata": {},
   "outputs": [
    {
     "name": "stdout",
     "output_type": "stream",
     "text": [
      "Coloring is possible!\n",
      "The assigned colors are as follows:\n",
      "Vertex:  0  Color:  1\n",
      "Vertex:  1  Color:  2\n",
      "Vertex:  2  Color:  2\n",
      "Vertex:  3  Color:  2\n"
     ]
    }
   ],
   "source": [
    "V = 4\n",
    "\n",
    "# A function to print the color configuration.\n",
    "\n",
    "\n",
    "def printConfiguration(colorArray):\n",
    "    print(\"The assigned colors are as follows:\")\n",
    "    for i in range(4):\n",
    "        print(\"Vertex: \",\n",
    "              i, \" Color: \", colorArray[i])\n",
    "\n",
    "\n",
    "\"\"\"\n",
    "A function that will check if the current colorArray of the graph is safe or not.\n",
    "\"\"\"\n",
    "\n",
    "\n",
    "def isSafe(v, colorArray, vertex):\n",
    "    for i in range(V):\n",
    "        if graph[v][i] == 1 and colorArray[i] == vertex:\n",
    "            return False\n",
    "        return True\n",
    "\n",
    "\n",
    "\"\"\"\n",
    "A recursive function that takes the current index, number of vertices, and the color array. If the recursive call returns true then the coloring is possible. It returns\n",
    "false if the m colors cannot be assigned.\n",
    "\"\"\"\n",
    "\n",
    "\n",
    "def graphColoringAlgorithmUtil(m, colorArray, currentVertex):\n",
    "    # base case.\n",
    "    if currentVertex == V:\n",
    "        return True\n",
    "\n",
    "    for i in range(1, m + 1):\n",
    "        if isSafe(currentVertex, colorArray, i) == True:\n",
    "            colorArray[currentVertex] = i\n",
    "            if graphColoringAlgorithmUtil(m, colorArray, currentVertex + 1):\n",
    "                return True\n",
    "\n",
    "            # backtrack\n",
    "            colorArray[currentVertex] = 0\n",
    "\n",
    "\n",
    "def graphColoringAlgorithm(colorArray, m):\n",
    "    # Initially the color array is initialized with 0.\n",
    "    colorArray = [0] * V\n",
    "\n",
    "    # Call graphColoringAlgorithmUtil() for vertex 0.\n",
    "    if graphColoringAlgorithmUtil(m, colorArray, 0) == None:\n",
    "        print(\"Coloring is not possible!\")\n",
    "        return False\n",
    "\n",
    "    # Print the solution\n",
    "    print(\"Coloring is possible!\")\n",
    "    printConfiguration(colorArray)\n",
    "    return True\n",
    "\n",
    "\n",
    "if __name__ == '__main__':\n",
    "    graph = [\n",
    "        [0, 1, 1, 1],\n",
    "        [1, 0, 1, 0],\n",
    "        [1, 1, 0, 1],\n",
    "        [1, 0, 1, 0],\n",
    "    ]\n",
    "    m = 3\n",
    "\n",
    "    graphColoringAlgorithm(graph, m)\n"
   ]
  },
  {
   "cell_type": "code",
   "execution_count": null,
   "id": "e6757d4c-5ccf-4cc5-b843-47ccdbda60a6",
   "metadata": {},
   "outputs": [],
   "source": []
  }
 ],
 "metadata": {
  "kernelspec": {
   "display_name": "Python 3 (ipykernel)",
   "language": "python",
   "name": "python3"
  },
  "language_info": {
   "codemirror_mode": {
    "name": "ipython",
    "version": 3
   },
   "file_extension": ".py",
   "mimetype": "text/x-python",
   "name": "python",
   "nbconvert_exporter": "python",
   "pygments_lexer": "ipython3",
   "version": "3.12.3"
  }
 },
 "nbformat": 4,
 "nbformat_minor": 5
}
