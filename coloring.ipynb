{
 "cells": [
  {
   "cell_type": "code",
   "execution_count": 1,
   "id": "f7790181-5d8c-4ea6-9c27-c1e7d12fa913",
   "metadata": {},
   "outputs": [
    {
     "name": "stdout",
     "output_type": "stream",
     "text": [
      "Solution Exists: Following are the assigned colors\n",
      "1 2 3 2\n"
     ]
    }
   ],
   "source": [
    "# Python Program for graph coloring using Backtracking\n",
    "V = 4\n",
    "\n",
    "\n",
    "def print_solution(color):\n",
    "    print(\"Solution Exists: Following are the assigned colors\")\n",
    "    print(\" \".join(map(str, color)))\n",
    "\n",
    "\n",
    "def is_safe(v, graph, color, c):\n",
    "    # Check if the color 'c' is safe for the vertex 'v'\n",
    "    for i in range(V):\n",
    "        if graph[v][i] and c == color[i]:\n",
    "            return False\n",
    "    return True\n",
    "\n",
    "\n",
    "def graph_coloring_util(graph, m, color, v):\n",
    "    # Base case: If all vertices are assigned a color, return true\n",
    "    if v == V:\n",
    "        return True\n",
    "\n",
    "    # Try different colors for the current vertex 'v'\n",
    "    for c in range(1, m + 1):\n",
    "        # Check if assignment of color 'c' to 'v' is fine\n",
    "        if is_safe(v, graph, color, c):\n",
    "            color[v] = c\n",
    "\n",
    "            # Recur to assign colors to the rest of the vertices\n",
    "            if graph_coloring_util(graph, m, color, v + 1):\n",
    "                return True\n",
    "\n",
    "            # If assigning color 'c' doesn't lead to a solution, remove it\n",
    "            color[v] = 0\n",
    "\n",
    "    # If no color can be assigned to this vertex, return false\n",
    "    return False\n",
    "\n",
    "\n",
    "def graph_coloring(graph, m):\n",
    "    color = [0] * V\n",
    "\n",
    "    # Call graph_coloring_util() for vertex 0\n",
    "    if not graph_coloring_util(graph, m, color, 0):\n",
    "        print(\"Solution does not exist\")\n",
    "        return False\n",
    "\n",
    "    # Print the solution\n",
    "    print_solution(color)\n",
    "    return True\n",
    "\n",
    "\n",
    "# Driver code\n",
    "if __name__ == \"__main__\":\n",
    "    graph = [\n",
    "            [0, 1, 1, 1],\n",
    "            [1, 0, 1, 0],\n",
    "            [1, 1, 0, 1],\n",
    "            [1, 0, 1, 0],\n",
    "    ]\n",
    "\n",
    "    m = 3\n",
    "\n",
    "    # Function call\n",
    "    graph_coloring(graph, m)\n"
   ]
  },
  {
   "cell_type": "code",
   "execution_count": 2,
   "id": "92ec9d0c-bbe0-4f72-843c-ca9d0d7663ae",
   "metadata": {},
   "outputs": [
    {
     "ename": "SyntaxError",
     "evalue": "Missing parentheses in call to 'print'. Did you mean print(...)? (4281895636.py, line 30)",
     "output_type": "error",
     "traceback": [
      "\u001b[1;36m  Cell \u001b[1;32mIn[2], line 30\u001b[1;36m\u001b[0m\n\u001b[1;33m    print colors_of_states\u001b[0m\n\u001b[1;37m    ^\u001b[0m\n\u001b[1;31mSyntaxError\u001b[0m\u001b[1;31m:\u001b[0m Missing parentheses in call to 'print'. Did you mean print(...)?\n"
     ]
    }
   ],
   "source": [
    "colors = ['Red', 'Blue', 'Green', 'Yellow', 'Black']\n",
    "\n",
    "states = ['Andhra', 'Karnataka', 'TamilNadu', 'Kerala']\n",
    "\n",
    "neighbors = {}\n",
    "neighbors['Andhra'] = ['Karnataka', 'TamilNadu']\n",
    "neighbors['Karnataka'] = ['Andhra', 'TamilNadu', 'Kerala']\n",
    "neighbors['TamilNadu'] = ['Andhra', 'Karnataka', 'Kerala']\n",
    "neighbors['Kerala'] = ['Karnataka', 'TamilNadu']\n",
    "\n",
    "colors_of_states = {}\n",
    "\n",
    "def promising(state, color):\n",
    "    for neighbor in neighbors.get(state): \n",
    "        color_of_neighbor = colors_of_states.get(neighbor)\n",
    "        if color_of_neighbor == color:\n",
    "            return False\n",
    "\n",
    "    return True\n",
    "\n",
    "def get_color_for_state(state):\n",
    "    for color in colors:\n",
    "        if promising(state, color):\n",
    "            return color\n",
    "\n",
    "def main():\n",
    "    for state in states:\n",
    "        colors_of_states[state] = get_color_for_state(state)\n",
    "\n",
    "    print colors_of_states\n",
    "\n",
    "\n",
    "main()"
   ]
  },
  {
   "cell_type": "code",
   "execution_count": null,
   "id": "3be6d04f-bc02-4f10-89e3-9b8750be2f7f",
   "metadata": {},
   "outputs": [],
   "source": []
  },
  {
   "cell_type": "code",
   "execution_count": null,
   "id": "dad6b9d7-89a2-4426-b5b1-4995b34de6b6",
   "metadata": {},
   "outputs": [],
   "source": []
  },
  {
   "cell_type": "code",
   "execution_count": 5,
   "id": "f4b8b25f-2499-4b18-a8fb-e3de739cbef1",
   "metadata": {},
   "outputs": [
    {
     "name": "stdout",
     "output_type": "stream",
     "text": [
      "{'Andhra': 'Red', 'Karnataka': 'Blue', 'TamilNadu': 'Green', 'Kerala': 'Red'}\n"
     ]
    }
   ],
   "source": [
    "colors = ['Red', 'Blue', 'Green', 'Yellow', 'Black']\n",
    "\n",
    "states = ['Andhra', 'Karnataka', 'TamilNadu', 'Kerala']\n",
    "\n",
    "neighbors = {}\n",
    "neighbors['Andhra'] = ['Karnataka', 'TamilNadu']\n",
    "neighbors['Karnataka'] = ['Andhra', 'TamilNadu', 'Kerala']\n",
    "neighbors['TamilNadu'] = ['Andhra', 'Karnataka', 'Kerala']\n",
    "neighbors['Kerala'] = ['Karnataka', 'TamilNadu']\n",
    "\n",
    "colors_of_states = {}\n",
    "\n",
    "def promising(state, color):\n",
    "    for neighbor in neighbors.get(state): \n",
    "        color_of_neighbor = colors_of_states.get(neighbor)\n",
    "        if color_of_neighbor == color:\n",
    "            return False\n",
    "\n",
    "    return True\n",
    "\n",
    "def get_color_for_state(state):\n",
    "    for color in colors:\n",
    "        if promising(state, color):\n",
    "            return color\n",
    "\n",
    "def main():\n",
    "    for state in states:\n",
    "        colors_of_states[state] = get_color_for_state(state)\n",
    "\n",
    "    print (colors_of_states)\n",
    "\n",
    "\n",
    "main()"
   ]
  },
  {
   "cell_type": "code",
   "execution_count": 4,
   "id": "d7e172d5-1a15-4d76-bc33-14e8ba419abd",
   "metadata": {},
   "outputs": [
    {
     "ename": "NameError",
     "evalue": "name 'y' is not defined",
     "output_type": "error",
     "traceback": [
      "\u001b[1;31m---------------------------------------------------------------------------\u001b[0m",
      "\u001b[1;31mNameError\u001b[0m                                 Traceback (most recent call last)",
      "Cell \u001b[1;32mIn[4], line 1\u001b[0m\n\u001b[1;32m----> 1\u001b[0m \u001b[43my\u001b[49m\n",
      "\u001b[1;31mNameError\u001b[0m: name 'y' is not defined"
     ]
    }
   ],
   "source": [
    "y\n"
   ]
  },
  {
   "cell_type": "code",
   "execution_count": 6,
   "id": "e0653f42-ab89-4f15-b022-a12c1af8ab11",
   "metadata": {},
   "outputs": [
    {
     "name": "stdout",
     "output_type": "stream",
     "text": [
      "{'Andhra': 'Red', 'Karnataka': 'Blue', 'TamilNadu': 'Green', 'Kerala': 'Red'}\n"
     ]
    }
   ],
   "source": [
    "colors = ['Red', 'Blue', 'Green', 'Yellow', 'Black']\n",
    "\n",
    "states = ['Andhra', 'Karnataka', 'TamilNadu', 'Kerala']\n",
    "\n",
    "neighbors = {}\n",
    "neighbors['Andhra'] = ['Karnataka', 'TamilNadu']\n",
    "neighbors['Karnataka'] = ['Andhra', 'TamilNadu', 'Kerala']\n",
    "neighbors['TamilNadu'] = ['Andhra', 'Karnataka', 'Kerala']\n",
    "neighbors['Kerala'] = ['Karnataka', 'TamilNadu']\n",
    "\n",
    "colors_of_states = {}\n",
    "\n",
    "def promising(state, color):\n",
    "    for neighbor in neighbors.get(state): \n",
    "        color_of_neighbor = colors_of_states.get(neighbor)\n",
    "        if color_of_neighbor == color:\n",
    "            return False\n",
    "\n",
    "    return True\n",
    "\n",
    "def get_color_for_state(state):\n",
    "    for color in colors:\n",
    "        if promising(state, color):\n",
    "            return color\n",
    "\n",
    "def main():\n",
    "    for state in states:\n",
    "        colors_of_states[state] = get_color_for_state(state)\n",
    "\n",
    "    print (colors_of_states)\n",
    "\n",
    "\n",
    "main()"
   ]
  },
  {
   "cell_type": "code",
   "execution_count": 7,
   "id": "07300706-9fa0-4c92-a66e-c10f2dd3b1aa",
   "metadata": {},
   "outputs": [
    {
     "name": "stdout",
     "output_type": "stream",
     "text": [
      "The assigned colors are as follows:\n",
      "Vertex:  0  Color:  1\n",
      "Vertex:  1  Color:  2\n",
      "Vertex:  2  Color:  3\n",
      "Vertex:  3  Color:  2\n",
      "Coloring is possible!\n"
     ]
    }
   ],
   "source": [
    "# A function to print the color configuration.\n",
    "def printConfiguration(colorArray):\n",
    "    print(\"The assigned colors are as follows:\")\n",
    "    for i in range(4):\n",
    "        print(\"Vertex: \",\n",
    "              i, \" Color: \", colorArray[i])\n",
    "\n",
    "\n",
    "\"\"\"\n",
    "A function that will check if the current colorArray of the graph is safe or not.\n",
    "\"\"\"\n",
    "\n",
    "\n",
    "def isSafe(graph, colorArray):\n",
    "    for i in range(4):\n",
    "        for j in range(i + 1, 4):\n",
    "            if (graph[i][j] and colorArray[j] == colorArray[i]):\n",
    "                return False\n",
    "    return True\n",
    "\n",
    "\n",
    "\"\"\"\n",
    "A recursive function that takes the current index, number of vertices, and the color array. If the recursive call returns true then the coloring is possible. It returns\n",
    "false if the m colors cannot be assigned.\n",
    "\"\"\"\n",
    "\n",
    "\n",
    "def graphColoringAlgorithm(graph, m, i, colorArray):\n",
    "    # If we have reached the last vertex then check and print the configuration.\n",
    "    if (i == 4):\n",
    "        if (isSafe(graph, colorArray)):\n",
    "            printConfiguration(colorArray)\n",
    "            return True\n",
    "        return False\n",
    "\n",
    "    # Assigning color to the vertex and recursively calling the function.\n",
    "    for j in range(1, m + 1):\n",
    "        colorArray[i] = j\n",
    "        if (graphColoringAlgorithm(graph, m, i + 1, colorArray)):\n",
    "            return True\n",
    "        colorArray[i] = 0\n",
    "    return False\n",
    "\n",
    "\n",
    "if __name__ == '__main__':\n",
    "    graph = [\n",
    "        [0, 1, 1, 1],\n",
    "        [1, 0, 1, 0],\n",
    "        [1, 1, 0, 1],\n",
    "        [1, 0, 1, 0],\n",
    "    ]\n",
    "    m = 3\n",
    "\n",
    "    # Initially the color list is initialized with 0.\n",
    "    colorArray = [0 for i in range(4)]\n",
    "\n",
    "    if (graphColoringAlgorithm(graph, m, 0, colorArray)):\n",
    "        print(\"Coloring is possible!\")\n",
    "    else:\n",
    "        print(\"Coloring is not possible!\")\n"
   ]
  },
  {
   "cell_type": "code",
   "execution_count": null,
   "id": "8458d040-162d-4318-8ea2-bd38bda1e96a",
   "metadata": {},
   "outputs": [],
   "source": []
  }
 ],
 "metadata": {
  "kernelspec": {
   "display_name": "Python 3 (ipykernel)",
   "language": "python",
   "name": "python3"
  },
  "language_info": {
   "codemirror_mode": {
    "name": "ipython",
    "version": 3
   },
   "file_extension": ".py",
   "mimetype": "text/x-python",
   "name": "python",
   "nbconvert_exporter": "python",
   "pygments_lexer": "ipython3",
   "version": "3.12.3"
  }
 },
 "nbformat": 4,
 "nbformat_minor": 5
}
