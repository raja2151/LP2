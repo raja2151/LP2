{
 "cells": [
  {
   "cell_type": "code",
   "execution_count": 1,
   "id": "463a0745-41da-4c55-bf74-dd4dbd632398",
   "metadata": {},
   "outputs": [
    {
     "name": "stdin",
     "output_type": "stream",
     "text": [
      "Enter N Queens Problem:  4\n"
     ]
    },
    {
     "name": "stdout",
     "output_type": "stream",
     "text": [
      "Solution: 1 3 0 2 \n",
      "The Matrix Representation:\n",
      "0 1 0 0 \n",
      "0 0 0 1 \n",
      "1 0 0 0 \n",
      "0 0 1 0 \n"
     ]
    }
   ],
   "source": [
    "class NQueensProblem:\n",
    "    def __init__(self, n):\n",
    "        self.queens = [0] * n\n",
    "        self.numSolutions = 0\n",
    "\n",
    "    def solve(self):\n",
    "        self.solve_helper(0)\n",
    "\n",
    "    def solve_helper(self, row):\n",
    "        if row == len(self.queens):\n",
    "            self.numSolutions += 1\n",
    "            self.print_solution()\n",
    "        else:\n",
    "            for col in range(len(self.queens)):\n",
    "                self.queens[row] = col\n",
    "                if self.is_valid(row, col):\n",
    "                    self.solve_helper(row + 1)\n",
    "\n",
    "    def is_valid(self, row, col):\n",
    "        for i in range(row):\n",
    "            diff = abs(self.queens[i] - col)\n",
    "            if diff == 0 or diff == row - i:\n",
    "                return False\n",
    "        return True\n",
    "\n",
    "    def print_solution(self):\n",
    "        if self.numSolutions == 1:\n",
    "            print(\"Solution: \", end=\"\")\n",
    "            for i in range(len(self.queens)):\n",
    "                print(self.queens[i], end=\" \")\n",
    "            print()\n",
    "            print(\"The Matrix Representation:\")\n",
    "            arr = [[0] * len(self.queens) for _ in range(len(self.queens))]\n",
    "            for i in range(len(self.queens)):\n",
    "                for j in range(len(self.queens)):\n",
    "                    if j == self.queens[i]:\n",
    "                        arr[i][j] = 1\n",
    "            for i in range(len(self.queens)):\n",
    "                for j in range(len(self.queens)):\n",
    "                    print(arr[i][j], end=\" \")\n",
    "                print()\n",
    "\n",
    "if __name__ == \"__main__\":\n",
    "    n = int(input(\"Enter N Queens Problem: \"))\n",
    "    NQueensProblem = NQueensProblem(n)\n",
    "    NQueensProblem.solve()\n"
   ]
  },
  {
   "cell_type": "code",
   "execution_count": null,
   "id": "e7853f8f-cbdb-4bf6-99ad-728f2d4b9757",
   "metadata": {},
   "outputs": [],
   "source": []
  }
 ],
 "metadata": {
  "kernelspec": {
   "display_name": "Python 3 (ipykernel)",
   "language": "python",
   "name": "python3"
  },
  "language_info": {
   "codemirror_mode": {
    "name": "ipython",
    "version": 3
   },
   "file_extension": ".py",
   "mimetype": "text/x-python",
   "name": "python",
   "nbconvert_exporter": "python",
   "pygments_lexer": "ipython3",
   "version": "3.12.3"
  }
 },
 "nbformat": 4,
 "nbformat_minor": 5
}
