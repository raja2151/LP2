{
 "cells": [
  {
   "cell_type": "code",
   "execution_count": 1,
   "id": "20804bac-adf7-4e8a-8c67-3191834509d2",
   "metadata": {},
   "outputs": [
    {
     "name": "stdin",
     "output_type": "stream",
     "text": [
      "Enter the number of data of employee you want to insert:  2\n",
      "Enter the name of the employee:  raj\n",
      "Enter the performance of deadlines met in terms of 0 or 1:  1\n",
      "Enter the performance of expectations exceeded in terms of 0 or 1:  1\n",
      "Enter the performance of initiative taken in terms of 0 or 1:  1\n",
      "Enter the performance of absences in terms of 0 or 1:  1\n",
      "Enter the performance of performance below expectations in terms  0 or 1:  1\n",
      "Enter the name of the employee:  rp\n",
      "Enter the performance of deadlines met in terms of 0 or 1:  1\n",
      "Enter the performance of expectations exceeded in terms of 0 or 1:  1\n",
      "Enter the performance of initiative taken in terms of 0 or 1:  1\n",
      "Enter the performance of absences in terms of 0 or 1:  11\n",
      "Enter the performance of performance below expectations in terms  0 or 1:  1\n"
     ]
    },
    {
     "name": "stdout",
     "output_type": "stream",
     "text": [
      "Rules for employee evaluation\n",
      "- If the employee meets all project deadlines, add 20 points to their score.\n",
      "- If the employee consistently exceeds expectations, add 30 points to their score.\n",
      "- If the employee shows initiative and takes on additional responsibilities, add 15 points to their score.\n",
      "- If the employee is frequently absent or misses deadlines, subtract 25 points from their score.\n",
      "- If the employee consistently performs below expectations, subtract 35 points from their score.\n",
      "Employee raj scored 5 points\n",
      "Employee rp scored 5 points\n"
     ]
    }
   ],
   "source": [
    "rules = {\n",
    "    \"rule1\": \"If the employee meets all project deadlines, add 20 points to their score.\",\n",
    "    \"rule2\": \"If the employee consistently exceeds expectations, add 30 points to their score.\",\n",
    "    \"rule3\": \"If the employee shows initiative and takes on additional responsibilities, add 15 points to their score.\",\n",
    "    \"rule4\": \"If the employee is frequently absent or misses deadlines, subtract 25 points from their score.\",\n",
    "    \"rule5\": \"If the employee consistently performs below expectations, subtract 35 points from their score.\"\n",
    "}\n",
    "\n",
    "def evaluate_employee_performance(deadlines_met, expectations_exceeded, initiative_taken, absences, performance_below_expectations):\n",
    "    score = 0\n",
    "    if deadlines_met:\n",
    "        score += 20\n",
    "    if expectations_exceeded:\n",
    "        score += 30\n",
    "    if initiative_taken:\n",
    "        score += 15\n",
    "    if absences:\n",
    "        score -= 25\n",
    "    if performance_below_expectations:\n",
    "        score -= 35\n",
    "    return score\n",
    "\n",
    "employee_data={}\n",
    "n=int(input(\"Enter the number of data of employee you want to insert: \"))\n",
    "for i in range(0,n):\n",
    "    name=input(\"Enter the name of the employee: \")\n",
    "    data={\n",
    "          \"deadlines_met\":bool(int(input(\"Enter the performance of deadlines met in terms of 0 or 1: \"))),\n",
    "          \"expectations_exceeded\": bool(int(input(\"Enter the performance of expectations exceeded in terms of 0 or 1: \"))),\n",
    "          \"initiative_taken\": bool(int(input(\"Enter the performance of initiative taken in terms of 0 or 1: \"))),\n",
    "          \"absences\": bool(int(input(\"Enter the performance of absences in terms of 0 or 1: \"))),\n",
    "          \"performance_below_expectations\":bool(int(input(\"Enter the performance of performance below expectations in terms  0 or 1: \")))\n",
    "          }\n",
    "    employee_data[name]=data\n",
    "print(\"Rules for employee evaluation\")\n",
    "for rule in rules.values():\n",
    "        print(f\"- {rule}\")\n",
    "for name, data in employee_data.items():\n",
    "    score = evaluate_employee_performance(data[\"deadlines_met\"], data[\"expectations_exceeded\"], data[\"initiative_taken\"], data[\"absences\"], data[\"performance_below_expectations\"])\n",
    "    print(f\"Employee {name} scored {score} points\")"
   ]
  },
  {
   "cell_type": "code",
   "execution_count": null,
   "id": "5d70e872-0c7b-4821-bd63-114f8ea0ae4b",
   "metadata": {},
   "outputs": [],
   "source": []
  }
 ],
 "metadata": {
  "kernelspec": {
   "display_name": "Python 3 (ipykernel)",
   "language": "python",
   "name": "python3"
  },
  "language_info": {
   "codemirror_mode": {
    "name": "ipython",
    "version": 3
   },
   "file_extension": ".py",
   "mimetype": "text/x-python",
   "name": "python",
   "nbconvert_exporter": "python",
   "pygments_lexer": "ipython3",
   "version": "3.12.3"
  }
 },
 "nbformat": 4,
 "nbformat_minor": 5
}
