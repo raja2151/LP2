{
 "cells": [
  {
   "cell_type": "code",
   "execution_count": 1,
   "id": "d2bd1338-6f5e-46b0-8bcd-77ffa548204d",
   "metadata": {},
   "outputs": [],
   "source": [
    "import sys"
   ]
  },
  {
   "cell_type": "code",
   "execution_count": 2,
   "id": "b7982df6-15d5-4fb2-9e8c-db474fec21a8",
   "metadata": {},
   "outputs": [
    {
     "name": "stdin",
     "output_type": "stream",
     "text": [
      "Enter the size of the graph:  5\n",
      "Enter the weight 0->0 of the graph:  0\n",
      "Enter the weight 0->1 of the graph:  2\n",
      "Enter the weight 0->2 of the graph:  0\n",
      "Enter the weight 0->3 of the graph:  6\n",
      "Enter the weight 0->4 of the graph:  0\n",
      "Enter the weight 1->0 of the graph:  2\n",
      "Enter the weight 1->1 of the graph:  0\n",
      "Enter the weight 1->2 of the graph:  3\n",
      "Enter the weight 1->3 of the graph:  8\n",
      "Enter the weight 1->4 of the graph:  5\n",
      "Enter the weight 2->0 of the graph:  0\n",
      "Enter the weight 2->1 of the graph:  3\n",
      "Enter the weight 2->2 of the graph:  0\n",
      "Enter the weight 2->3 of the graph:  0\n",
      "Enter the weight 2->4 of the graph:  7\n",
      "Enter the weight 3->0 of the graph:  6\n",
      "Enter the weight 3->1 of the graph:  8\n",
      "Enter the weight 3->2 of the graph:  0\n",
      "Enter the weight 3->3 of the graph:  0\n",
      "Enter the weight 3->4 of the graph:  9\n",
      "Enter the weight 4->0 of the graph:  0\n",
      "Enter the weight 4->1 of the graph:  5\n",
      "Enter the weight 4->2 of the graph:  7\n",
      "Enter the weight 4->3 of the graph:  9\n",
      "Enter the weight 4->4 of the graph:  0\n",
      "Enter the starting vertex of the graph:  1\n"
     ]
    },
    {
     "name": "stdout",
     "output_type": "stream",
     "text": [
      "Vertex \t Distance from Source\n",
      "0 \t 2\n",
      "1 \t 0\n",
      "2 \t 3\n",
      "3 \t 8\n",
      "4 \t 5\n"
     ]
    }
   ],
   "source": [
    "class DijkstraMST:\n",
    "    def __init__(self, graph, num_vertices):\n",
    "        self.num_vertices = num_vertices\n",
    "        self.graph = graph\n",
    "        self.dist = [sys.maxsize] * num_vertices\n",
    "        self.visited = [False] * num_vertices\n",
    "\n",
    "    def dijkstra(self, start_vertex):\n",
    "        for i in range(self.num_vertices):\n",
    "            self.dist[i] = sys.maxsize\n",
    "            self.visited[i] = False\n",
    "\n",
    "        self.dist[start_vertex] = 0\n",
    "        for _ in range(self.num_vertices - 1):\n",
    "            u = self.min_distance(self.dist, self.visited)\n",
    "            self.visited[u] = True\n",
    "\n",
    "            for v in range(self.num_vertices):\n",
    "                if not self.visited[v] and self.graph[u][v] != 0 and self.dist[u] != sys.maxsize and self.dist[u] + self.graph[u][v] < self.dist[v]:\n",
    "                    self.dist[v] = self.dist[u] + self.graph[u][v]\n",
    "\n",
    "        self.print_mst(start_vertex)\n",
    "\n",
    "    @staticmethod\n",
    "    def min_distance(dist, visited):\n",
    "        min_dist = sys.maxsize\n",
    "        min_index = -1\n",
    "\n",
    "        for i in range(len(dist)):\n",
    "            if not visited[i] and dist[i] <= min_dist:\n",
    "                min_dist = dist[i]\n",
    "                min_index = i\n",
    "\n",
    "        return min_index\n",
    "\n",
    "    def print_mst(self, start_vertex):\n",
    "        print(\"Vertex \\t Distance from Source\")\n",
    "        for i in range(self.num_vertices):\n",
    "            print(i, \"\\t\", self.dist[i])\n",
    "\n",
    "if __name__ == \"__main__\":\n",
    "    n = int(input(\"Enter the size of the graph: \"))\n",
    "    graph = []\n",
    "    for _ in range(n):\n",
    "        row = []\n",
    "        for j in range(n):\n",
    "            weight = int(input(\"Enter the weight {}->{} of the graph: \".format(_, j)))\n",
    "            row.append(weight)\n",
    "        graph.append(row)\n",
    "\n",
    "    start_vertex = int(input(\"Enter the starting vertex of the graph: \"))\n",
    "\n",
    "    dijkstra = DijkstraMST(graph, n)\n",
    "    dijkstra.dijkstra(start_vertex)"
   ]
  },
  {
   "cell_type": "code",
   "execution_count": null,
   "id": "9599f47c-d85a-4433-aab3-3103109abddb",
   "metadata": {},
   "outputs": [],
   "source": []
  }
 ],
 "metadata": {
  "kernelspec": {
   "display_name": "Python 3 (ipykernel)",
   "language": "python",
   "name": "python3"
  },
  "language_info": {
   "codemirror_mode": {
    "name": "ipython",
    "version": 3
   },
   "file_extension": ".py",
   "mimetype": "text/x-python",
   "name": "python",
   "nbconvert_exporter": "python",
   "pygments_lexer": "ipython3",
   "version": "3.12.3"
  }
 },
 "nbformat": 4,
 "nbformat_minor": 5
}
