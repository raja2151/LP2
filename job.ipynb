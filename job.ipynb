{
 "cells": [
  {
   "cell_type": "code",
   "execution_count": 1,
   "id": "acc0cbe0-f680-4ff5-a123-b822eebbb0da",
   "metadata": {},
   "outputs": [
    {
     "name": "stdin",
     "output_type": "stream",
     "text": [
      "Enter the no of Job you want to enter:  5\n"
     ]
    },
    {
     "name": "stdout",
     "output_type": "stream",
     "text": [
      "Enter the details of the Job:\n",
      "Job 1 :\n"
     ]
    },
    {
     "name": "stdin",
     "output_type": "stream",
     "text": [
      "Enter the id of Job:  1\n",
      "Enter the deadline of Job:  2\n",
      "Enter the profit of Job:  100\n"
     ]
    },
    {
     "name": "stdout",
     "output_type": "stream",
     "text": [
      "Job 2 :\n"
     ]
    },
    {
     "name": "stdin",
     "output_type": "stream",
     "text": [
      "Enter the id of Job:  2\n",
      "Enter the deadline of Job:  1\n",
      "Enter the profit of Job:  19\n"
     ]
    },
    {
     "name": "stdout",
     "output_type": "stream",
     "text": [
      "Job 3 :\n"
     ]
    },
    {
     "name": "stdin",
     "output_type": "stream",
     "text": [
      "Enter the id of Job:  3\n",
      "Enter the deadline of Job:  2\n",
      "Enter the profit of Job:  27\n"
     ]
    },
    {
     "name": "stdout",
     "output_type": "stream",
     "text": [
      "Job 4 :\n"
     ]
    },
    {
     "name": "stdin",
     "output_type": "stream",
     "text": [
      "Enter the id of Job:  4\n",
      "Enter the deadline of Job:  1\n",
      "Enter the profit of Job:  25\n"
     ]
    },
    {
     "name": "stdout",
     "output_type": "stream",
     "text": [
      "Job 5 :\n"
     ]
    },
    {
     "name": "stdin",
     "output_type": "stream",
     "text": [
      "Enter the id of Job:  5\n",
      "Enter the deadline of Job:  3\n",
      "Enter the profit of Job:  15\n"
     ]
    },
    {
     "name": "stdout",
     "output_type": "stream",
     "text": [
      "Scheduled Jobs: 3 1 5 \n",
      "Total Profit: 142\n"
     ]
    }
   ],
   "source": [
    "class Job:\n",
    "    def __init__(self, id, deadline, profit):\n",
    "        self.id = id\n",
    "        self.deadline = deadline\n",
    "        self.profit = profit\n",
    "\n",
    "n = int(input(\"Enter the no of Job you want to enter: \"))\n",
    "jobs = []\n",
    "print(\"Enter the details of the Job:\")\n",
    "for i in range(n):\n",
    "    print(\"Job\", i + 1, \":\")\n",
    "    id = int(input(\"Enter the id of Job: \"))\n",
    "    deadline = int(input(\"Enter the deadline of Job: \"))\n",
    "    profit = int(input(\"Enter the profit of Job: \"))\n",
    "    jobs.append(Job(id, deadline, profit))\n",
    "\n",
    "jobs.sort(key=lambda x: x.profit, reverse=True)\n",
    "\n",
    "maxDeadline = max(job.deadline for job in jobs)\n",
    "\n",
    "slots = [0] * (maxDeadline + 1)\n",
    "\n",
    "totalProfit = 0\n",
    "for job in jobs:\n",
    "    for i in range(job.deadline, 0, -1):\n",
    "        if slots[i] == 0:\n",
    "            slots[i] = job.id\n",
    "            totalProfit += job.profit\n",
    "            break\n",
    "\n",
    "print(\"Scheduled Jobs:\", end=\" \")\n",
    "for i in range(1, len(slots)):\n",
    "    if slots[i] != 0:\n",
    "        print(slots[i], end=\" \")\n",
    "print(\"\\nTotal Profit:\", totalProfit)\n"
   ]
  },
  {
   "cell_type": "code",
   "execution_count": null,
   "id": "f3f2bc2b-1c5c-47f0-8300-636935a2a05a",
   "metadata": {},
   "outputs": [],
   "source": []
  }
 ],
 "metadata": {
  "kernelspec": {
   "display_name": "Python 3 (ipykernel)",
   "language": "python",
   "name": "python3"
  },
  "language_info": {
   "codemirror_mode": {
    "name": "ipython",
    "version": 3
   },
   "file_extension": ".py",
   "mimetype": "text/x-python",
   "name": "python",
   "nbconvert_exporter": "python",
   "pygments_lexer": "ipython3",
   "version": "3.12.3"
  }
 },
 "nbformat": 4,
 "nbformat_minor": 5
}
